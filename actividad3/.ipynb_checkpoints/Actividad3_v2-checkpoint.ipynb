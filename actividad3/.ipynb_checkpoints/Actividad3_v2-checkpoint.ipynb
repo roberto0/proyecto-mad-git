{
 "cells": [
  {
   "cell_type": "markdown",
   "metadata": {},
   "source": [
    "# Confilicto Mapuche\n",
    "\n",
    "<p style=\"text-align: justify;\">Conflicto mapuche es el nombre con el que se denomina al conflicto originado a partir de los  reclamos de comunidades y organizaciones mapuches a los Estados de Chile y Argentina.</p>\n",
    "\n",
    "<p style=\"text-align: justify;\">Los principales reclamos pueden agruparse en cuatro categorías: la autonomía jurisdiccional (derecho propio), la recuperación de tierras ancestrales, libertad económico-productiva y el reconocimiento de una identidad cultural.</p>\n",
    "\n"
   ]
  },
  {
   "cell_type": "markdown",
   "metadata": {},
   "source": [
    "## Pregunta de investigación:\n",
    "\n",
    "<p style=\"text-align: justify;\">La cuestión mapuche ha ganado notoriedad, en parte, gracias a la escalada del conflicto y al aumento del uso de la violencia. Donde los medios de comunicación hacen su labor de informar a la comunidad, de este punto surge siguiente la pregunta de investigación: </p>\n",
    "\n",
    "### ¿Existe sesgo de medio para presentar las noticias respecto de los mapuches? (pluralismo)\n",
    "\n",
    "\n"
   ]
  },
  {
   "cell_type": "markdown",
   "metadata": {},
   "source": [
    "## Hipótesis:\n",
    "\n",
    "A: medio habla de algo\n",
    "\n",
    "B: el medio hablo de eso (?)"
   ]
  },
  {
   "cell_type": "markdown",
   "metadata": {},
   "source": [
    "## Metodologia utilizada:\n",
    "\n",
    "<p style=\"text-align: justify;\">En primer lugar, se leen los datos desde el archivo .csv y se asignan los nombres que describen el contenido de cada columna, para luego, se seleccionan y almacenar los datos en una estructura de datos del tipo Matrix.</p>"
   ]
  },
  {
   "cell_type": "code",
   "execution_count": 2,
   "metadata": {},
   "outputs": [],
   "source": [
    "import numpy as np\n",
    "import pandas as pd\n",
    "#Cargar el dataset de tweets\n",
    "df_mapuches = pd.read_csv('datasets/sophia_mapuche_v2.csv',delimiter=\"|\", header=None)\n",
    "df_mapuches.columns = [\"fecha\", \"CódigoMedio\", \"titulo\", \"cuerpo\"]\n",
    "\n",
    "#selección de los mensajes\n",
    "docs = df_mapuches[\"cuerpo\"].as_matrix()"
   ]
  },
  {
   "cell_type": "code",
   "execution_count": 3,
   "metadata": {},
   "outputs": [
    {
     "name": "stdout",
     "output_type": "stream",
     "text": [
      "[nltk_data] Downloading package stopwords to\n",
      "[nltk_data]     /Users/roberto/nltk_data...\n",
      "[nltk_data]   Package stopwords is already up-to-date!\n",
      "[nltk_data] Downloading package punkt to /Users/roberto/nltk_data...\n",
      "[nltk_data]   Package punkt is already up-to-date!\n"
     ]
    }
   ],
   "source": [
    "import nltk\n",
    "nltk.download('stopwords')\n",
    "nltk.download('punkt')\n",
    "# load nltk's SnowballStemmer as variabled 'stemmer'\n",
    "from nltk.stem.snowball import SnowballStemmer\n",
    "from sklearn.metrics import adjusted_rand_score\n",
    "\n",
    "stemmer = SnowballStemmer(\"spanish\")\n",
    "\n",
    "# load nltk's English stopwords as variable called 'stopwords'\n",
    "stopwords = nltk.corpus.stopwords.words('spanish')\n",
    "\n",
    "# here I define a tokenizer and stemmer which returns the set of stems in the text that it is passed\n",
    "def tokenize_and_stem(text):\n",
    "    # first tokenize by sentence, then by word to ensure that punctuation is caught as it's own token\n",
    "    tokens = [word for sent in nltk.sent_tokenize(text) for word in nltk.word_tokenize(sent)]\n",
    "    filtered_tokens = []\n",
    "    # filter out any tokens not containing letters (e.g., numeric tokens, raw punctuation)\n",
    "    for token in tokens:\n",
    "        if re.search('[a-zA-Z]', token):\n",
    "            filtered_tokens.append(token)\n",
    "    stems = [stemmer.stem(t) for t in filtered_tokens]\n",
    "    return stems\n",
    "\n",
    "\n",
    "def tokenize_only(text):\n",
    "    # first tokenize by sentence, then by word to ensure that punctuation is caught as it's own token\n",
    "    tokens = [word.lower() for sent in nltk.sent_tokenize(text) for word in nltk.word_tokenize(sent)]\n",
    "    filtered_tokens = []\n",
    "    # filter out any tokens not containing letters (e.g., numeric tokens, raw punctuation)\n",
    "    for token in tokens:\n",
    "        if re.search('[a-zA-Z]', token):\n",
    "            filtered_tokens.append(token)\n",
    "    return filtered_tokens"
   ]
  },
  {
   "cell_type": "markdown",
   "metadata": {},
   "source": [
    "A través de la prerplejidad se defininen que son cuatro los grupos que se pueden observar."
   ]
  },
  {
   "cell_type": "code",
   "execution_count": 138,
   "metadata": {},
   "outputs": [
    {
     "name": "stdout",
     "output_type": "stream",
     "text": [
      "[nltk_data] Downloading package stopwords to\n",
      "[nltk_data]     /Users/roberto/nltk_data...\n",
      "[nltk_data]   Package stopwords is already up-to-date!\n",
      "[nltk_data] Downloading package punkt to /Users/roberto/nltk_data...\n",
      "[nltk_data]   Package punkt is already up-to-date!\n",
      "Extracting tf features for LDA...\n",
      "done in 0.514s.\n",
      "Extracting tf features for LDA...\n",
      "done in 0.140s.\n"
     ]
    },
    {
     "name": "stderr",
     "output_type": "stream",
     "text": [
      "/Users/roberto/anaconda3/lib/python3.6/site-packages/sklearn/decomposition/online_lda.py:812: FutureWarning: elementwise comparison failed; returning scalar instead, but in the future will perform elementwise comparison\n",
      "  if doc_topic_distr != 'deprecated':\n",
      "/Users/roberto/anaconda3/lib/python3.6/site-packages/sklearn/decomposition/online_lda.py:816: DeprecationWarning: Argument 'doc_topic_distr' is deprecated and is being ignored as of 0.19. Support for this argument will be removed in 0.21.\n",
      "  DeprecationWarning)\n",
      "/Users/roberto/anaconda3/lib/python3.6/site-packages/sklearn/decomposition/online_lda.py:816: DeprecationWarning: Argument 'doc_topic_distr' is deprecated and is being ignored as of 0.19. Support for this argument will be removed in 0.21.\n",
      "  DeprecationWarning)\n",
      "/Users/roberto/anaconda3/lib/python3.6/site-packages/sklearn/decomposition/online_lda.py:816: DeprecationWarning: Argument 'doc_topic_distr' is deprecated and is being ignored as of 0.19. Support for this argument will be removed in 0.21.\n",
      "  DeprecationWarning)\n",
      "/Users/roberto/anaconda3/lib/python3.6/site-packages/sklearn/decomposition/online_lda.py:816: DeprecationWarning: Argument 'doc_topic_distr' is deprecated and is being ignored as of 0.19. Support for this argument will be removed in 0.21.\n",
      "  DeprecationWarning)\n",
      "/Users/roberto/anaconda3/lib/python3.6/site-packages/sklearn/decomposition/online_lda.py:816: DeprecationWarning: Argument 'doc_topic_distr' is deprecated and is being ignored as of 0.19. Support for this argument will be removed in 0.21.\n",
      "  DeprecationWarning)\n",
      "/Users/roberto/anaconda3/lib/python3.6/site-packages/sklearn/decomposition/online_lda.py:816: DeprecationWarning: Argument 'doc_topic_distr' is deprecated and is being ignored as of 0.19. Support for this argument will be removed in 0.21.\n",
      "  DeprecationWarning)\n",
      "/Users/roberto/anaconda3/lib/python3.6/site-packages/sklearn/decomposition/online_lda.py:816: DeprecationWarning: Argument 'doc_topic_distr' is deprecated and is being ignored as of 0.19. Support for this argument will be removed in 0.21.\n",
      "  DeprecationWarning)\n",
      "/Users/roberto/anaconda3/lib/python3.6/site-packages/sklearn/decomposition/online_lda.py:816: DeprecationWarning: Argument 'doc_topic_distr' is deprecated and is being ignored as of 0.19. Support for this argument will be removed in 0.21.\n",
      "  DeprecationWarning)\n",
      "/Users/roberto/anaconda3/lib/python3.6/site-packages/sklearn/decomposition/online_lda.py:816: DeprecationWarning: Argument 'doc_topic_distr' is deprecated and is being ignored as of 0.19. Support for this argument will be removed in 0.21.\n",
      "  DeprecationWarning)\n",
      "/Users/roberto/anaconda3/lib/python3.6/site-packages/sklearn/decomposition/online_lda.py:816: DeprecationWarning: Argument 'doc_topic_distr' is deprecated and is being ignored as of 0.19. Support for this argument will be removed in 0.21.\n",
      "  DeprecationWarning)\n",
      "/Users/roberto/anaconda3/lib/python3.6/site-packages/sklearn/decomposition/online_lda.py:816: DeprecationWarning: Argument 'doc_topic_distr' is deprecated and is being ignored as of 0.19. Support for this argument will be removed in 0.21.\n",
      "  DeprecationWarning)\n",
      "/Users/roberto/anaconda3/lib/python3.6/site-packages/sklearn/decomposition/online_lda.py:816: DeprecationWarning: Argument 'doc_topic_distr' is deprecated and is being ignored as of 0.19. Support for this argument will be removed in 0.21.\n",
      "  DeprecationWarning)\n",
      "/Users/roberto/anaconda3/lib/python3.6/site-packages/sklearn/decomposition/online_lda.py:816: DeprecationWarning: Argument 'doc_topic_distr' is deprecated and is being ignored as of 0.19. Support for this argument will be removed in 0.21.\n",
      "  DeprecationWarning)\n",
      "/Users/roberto/anaconda3/lib/python3.6/site-packages/sklearn/decomposition/online_lda.py:816: DeprecationWarning: Argument 'doc_topic_distr' is deprecated and is being ignored as of 0.19. Support for this argument will be removed in 0.21.\n",
      "  DeprecationWarning)\n",
      "/Users/roberto/anaconda3/lib/python3.6/site-packages/sklearn/decomposition/online_lda.py:816: DeprecationWarning: Argument 'doc_topic_distr' is deprecated and is being ignored as of 0.19. Support for this argument will be removed in 0.21.\n",
      "  DeprecationWarning)\n",
      "/Users/roberto/anaconda3/lib/python3.6/site-packages/sklearn/decomposition/online_lda.py:816: DeprecationWarning: Argument 'doc_topic_distr' is deprecated and is being ignored as of 0.19. Support for this argument will be removed in 0.21.\n",
      "  DeprecationWarning)\n",
      "/Users/roberto/anaconda3/lib/python3.6/site-packages/sklearn/decomposition/online_lda.py:816: DeprecationWarning: Argument 'doc_topic_distr' is deprecated and is being ignored as of 0.19. Support for this argument will be removed in 0.21.\n",
      "  DeprecationWarning)\n",
      "/Users/roberto/anaconda3/lib/python3.6/site-packages/sklearn/decomposition/online_lda.py:816: DeprecationWarning: Argument 'doc_topic_distr' is deprecated and is being ignored as of 0.19. Support for this argument will be removed in 0.21.\n",
      "  DeprecationWarning)\n",
      "/Users/roberto/anaconda3/lib/python3.6/site-packages/sklearn/decomposition/online_lda.py:816: DeprecationWarning: Argument 'doc_topic_distr' is deprecated and is being ignored as of 0.19. Support for this argument will be removed in 0.21.\n",
      "  DeprecationWarning)\n",
      "/Users/roberto/anaconda3/lib/python3.6/site-packages/sklearn/decomposition/online_lda.py:816: DeprecationWarning: Argument 'doc_topic_distr' is deprecated and is being ignored as of 0.19. Support for this argument will be removed in 0.21.\n",
      "  DeprecationWarning)\n",
      "/Users/roberto/anaconda3/lib/python3.6/site-packages/sklearn/decomposition/online_lda.py:816: DeprecationWarning: Argument 'doc_topic_distr' is deprecated and is being ignored as of 0.19. Support for this argument will be removed in 0.21.\n",
      "  DeprecationWarning)\n",
      "/Users/roberto/anaconda3/lib/python3.6/site-packages/sklearn/decomposition/online_lda.py:816: DeprecationWarning: Argument 'doc_topic_distr' is deprecated and is being ignored as of 0.19. Support for this argument will be removed in 0.21.\n",
      "  DeprecationWarning)\n"
     ]
    },
    {
     "data": {
      "image/png": "[encoded data removed]",
      "text/plain": [
       "<matplotlib.figure.Figure at 0x1a17af7048>"
      ]
     },
     "metadata": {},
     "output_type": "display_data"
    }
   ],
   "source": [
    "import matplotlib\n",
    "import matplotlib.pyplot as plt\n",
    "import nltk\n",
    "nltk.download('stopwords')\n",
    "nltk.download('punkt')\n",
    "from __future__ import print_function\n",
    "from time import time\n",
    "\n",
    "from sklearn.feature_extraction.text import TfidfVectorizer, CountVectorizer\n",
    "from sklearn.decomposition import NMF, LatentDirichletAllocation\n",
    "n_samples = 0.7\n",
    "n_features = 1000\n",
    "n_top_words = 20\n",
    "dataset = docs\n",
    "data_samples = dataset[:int(len(dataset)*n_samples)]\n",
    "test_samples = dataset[int(len(dataset)*n_samples):]\n",
    "\n",
    "\n",
    "stopWords = set(nltk.corpus.stopwords.words('spanish'))\n",
    "\n",
    "print(\"Extracting tf features for LDA...\")\n",
    "tf_vectorizer = CountVectorizer(max_df=0.95, min_df=7,\n",
    "                                max_features=n_features,\n",
    "                                stop_words=stopWords)\n",
    "t0 = time()\n",
    "tf = tf_vectorizer.fit_transform(data_samples)\n",
    "print(\"done in %0.3fs.\" % (time() - t0))\n",
    "# Use tf (raw term count) features for LDA.\n",
    "print(\"Extracting tf features for LDA...\")\n",
    "t0 = time()\n",
    "tf_test = tf_vectorizer.transform(test_samples)\n",
    "print(\"done in %0.3fs.\" % (time() - t0))\n",
    "\n",
    "perplexity = []\n",
    "\n",
    "for i in range(1,12):\n",
    "    n_topics = i\n",
    "\n",
    "    #print(\"Fitting LDA models with tf features, \"\n",
    "    #      \"n_samples=%d, n_features=%d n_topics=%d \"\n",
    "    #      % (n_samples, n_features, n_topics))\n",
    "\n",
    "    lda = LatentDirichletAllocation(n_components=n_topics, max_iter=5,\n",
    "                                    learning_method='online',\n",
    "                                    learning_offset=50.,\n",
    "                                    random_state=0)\n",
    "    t0 = time()\n",
    "    lda.fit(tf)\n",
    "\n",
    "    train_gamma = lda.transform(tf)\n",
    "    train_perplexity = lda.perplexity(tf, train_gamma)\n",
    "    \n",
    "    test_gamma = lda.transform(tf_test)\n",
    "    test_perplexity = lda.perplexity(tf_test, test_gamma)\n",
    "    \n",
    "    perplexity.append(test_perplexity)\n",
    "    \n",
    "    #print('sklearn preplexity: train=%.3f, test=%.3f' %\n",
    "    #      (train_perplexity, test_perplexity))\n",
    "\n",
    "    #print(\"done in %0.3fs.\" % (time() - t0))\n",
    "    #\n",
    "plt.plot(range(1,12),perplexity,'-o')\n",
    "plt.xlabel('Numero de clusters')\n",
    "plt.ylabel('Perplexity')\n",
    "plt.xticks(range(1,12))\n",
    "plt.show()"
   ]
  },
  {
   "cell_type": "markdown",
   "metadata": {},
   "source": [
    "Con los cuatro grupos definidos anteriormente, se entrena un modelo Latent Dirichlet Allocation, de los cuales se observan los siguientes tópicos:"
   ]
  },
  {
   "cell_type": "code",
   "execution_count": 4,
   "metadata": {},
   "outputs": [
    {
     "name": "stdout",
     "output_type": "stream",
     "text": [
      "6631.6961295972\n",
      "\n",
      "Topics in LDA model:\n",
      "Topic #0: newsletter ciudad emol correos recibirás soychile.cl hoyxhoy.cl ¿cuándo quieres entérate elige contáctenos farox anunciar guioteca inmobiliaria pronto sucede propiedades autolocal.cl suscríbete recibir valor sa condiciones futuro términos periodística sitio mundo\n",
      "Topic #1: pueblo pueblos violencia bachelet conflicto gobierno presidenta originarios video derechos niños ley huelga ser parte chile comuneros antiterrorista frente proyecto araucanía mapuches kast además presidencial educación perdón tripantu manifestó https\n",
      "Topic #2: loading working playlists koz panguipulli o´higgins sexta bernardo convoca huerta ruca plurinacional detrás municipio abril agua marcha plaza hrs territorios viernes parlamento fruto futa kom rubro personaje sistemas s saludo\n",
      "Topic #3: pueblo temuco comunidad comunidades chile derechos araucanía carabineros comuneros parte región pueblos gobierno ser huelga conflicto ley territorio hambre cultura comuna nacional violencia además años lugar caso días dos tras\n",
      "\n"
     ]
    }
   ],
   "source": [
    "#Aplicando Modelos Probabilistas de Tópicos y LDA\n",
    "from sklearn.decomposition import LatentDirichletAllocation\n",
    "import re\n",
    "from sklearn.feature_extraction.text import TfidfVectorizer, CountVectorizer\n",
    "from sklearn.cluster import KMeans\n",
    "from sklearn.metrics import adjusted_rand_score\n",
    "\n",
    "def print_top_words(model, feature_names, n_top_words):\n",
    "    for topic_idx, topic in enumerate(model.components_):\n",
    "        message = \"Topic #%d: \" % topic_idx\n",
    "        message += \" \".join([feature_names[i]\n",
    "                             for i in topic.argsort()[:-n_top_words - 1:-1]])\n",
    "        print(message)\n",
    "    print()\n",
    "    \n",
    "stopWords = set(nltk.corpus.stopwords.words('spanish'))\n",
    "\n",
    "\n",
    "tf_vectorizer = TfidfVectorizer(max_df=0.95, min_df=7,\n",
    "                                stop_words=stopWords,tokenizer=tokenize_only, ngram_range=(1,1))\n",
    "tf = tf_vectorizer.fit_transform(docs)\n",
    "diccionario= tf_vectorizer.get_feature_names()\n",
    "\n",
    "\n",
    "#Estimación de LDA con Bayes Variacional\n",
    "lda = LatentDirichletAllocation(n_components=4, max_iter=10,\n",
    "                                learning_method='online',\n",
    "                                learning_offset=50.,\n",
    "                                random_state=0)\n",
    "\n",
    "lda_model = lda.fit(tf)\n",
    "#Cálculo de índice de ajuste de los datos\n",
    "print(lda.perplexity(tf))\n",
    "print(\"\\nTopics in LDA model:\")\n",
    "print_top_words(lda, diccionario, 30)"
   ]
  },
  {
   "cell_type": "markdown",
   "metadata": {},
   "source": [
    "Aquí van unos gráficos para ver que tan relevante son los tópicos y de que tratan."
   ]
  },
  {
   "cell_type": "code",
   "execution_count": 70,
   "metadata": {},
   "outputs": [
    {
     "data": {
      "image/png": "[encoded data removed]",
      "text/plain": [
       "<matplotlib.figure.Figure at 0x1a10f11240>"
      ]
     },
     "metadata": {},
     "output_type": "display_data"
    },
    {
     "data": {
      "image/png": "[encoded data removed]",
      "text/plain": [
       "<matplotlib.figure.Figure at 0x1a10e832b0>"
      ]
     },
     "metadata": {},
     "output_type": "display_data"
    },
    {
     "data": {
      "image/png": "[encoded data removed]",
      "text/plain": [
       "<matplotlib.figure.Figure at 0x1a184d7f28>"
      ]
     },
     "metadata": {},
     "output_type": "display_data"
    },
    {
     "data": {
      "image/png": "[encoded data removed]",
      "text/plain": [
       "<matplotlib.figure.Figure at 0x1a113959e8>"
      ]
     },
     "metadata": {},
     "output_type": "display_data"
    },
    {
     "data": {
      "image/png": "[encoded data removed]",
      "text/plain": [
       "<matplotlib.figure.Figure at 0x1a11386438>"
      ]
     },
     "metadata": {},
     "output_type": "display_data"
    },
    {
     "data": {
      "image/png": "[encoded data removed]",
      "text/plain": [
       "<matplotlib.figure.Figure at 0x1a110061d0>"
      ]
     },
     "metadata": {},
     "output_type": "display_data"
    }
   ],
   "source": [
    "#Generando algunos gráficos de los resultados\n",
    "from matplotlib.pylab import hist, show\n",
    "import seaborn as sns\n",
    "import matplotlib.pyplot as plt\n",
    "\n",
    "y=lda.fit_transform(tf)\n",
    "\n",
    "#distribución de tópicos en todos los documentos\n",
    "dist = sum(y)/len(docs)\n",
    "w=np.arange(0,true_k)\n",
    "plt.bar(w,height=dist,alpha=0.5,tick_label=w)\n",
    "show()\n",
    "#distribución de tópicos en el documento 100\n",
    "plt.bar(w,height=y[100],alpha=0.5,tick_label=w)\n",
    "show()\n",
    "\n",
    "\n",
    "#frecuencia de palabras por tópico\n",
    "n_top_words=10\n",
    "numo =np.arange(0,n_top_words)\n",
    "for idx,topic in enumerate(lda.components_):\n",
    "    d =[]\n",
    "    s = []\n",
    "    for i in topic.argsort()[:-n_top_words - 1:-1]:\n",
    "          s.append(diccionario[i])\n",
    "          d.append(topic[i])\n",
    "    \n",
    "    plt.barh(numo,width=d,alpha=0.5,tick_label=s)\n",
    "    show()"
   ]
  },
  {
   "cell_type": "markdown",
   "metadata": {},
   "source": [
    "Aquí se observan los medios que más abordan el tema, donde destacan los primeros 19 medios que tienen más de 20 publicaciones."
   ]
  },
  {
   "cell_type": "code",
   "execution_count": 7,
   "metadata": {},
   "outputs": [
    {
     "name": "stdout",
     "output_type": "stream",
     "text": [
      " Mapuexpress         184\n",
      " biobio              125\n",
      " araucanianews        82\n",
      " eldesconcierto       69\n",
      " soytemuco            59\n",
      " AustralTemuco        58\n",
      " El_Ciudadano         49\n",
      " adnradiochile        41\n",
      " TVU_television       36\n",
      " laopinon             35\n",
      " rsumen               32\n",
      " CNNChile             27\n",
      " el_dinamo            26\n",
      " Temucodiario         26\n",
      " RedMiVoz             24\n",
      " 24HorasTVN           24\n",
      " GAMBA_CL             23\n",
      " thecliniccl          22\n",
      " latercera            22\n",
      " uchileradio          19\n",
      " elmostrador          18\n",
      " nacioncl             16\n",
      " mercuriovalpo        15\n",
      " T13                  13\n",
      " prensaopal           13\n",
      " FortinOficial        12\n",
      " CHVNoticiascl        12\n",
      " rtierrabella         11\n",
      " ELCLARINDECHILE      11\n",
      " corrupcionchile      10\n",
      "                    ... \n",
      " soyvalparaiso         1\n",
      " fisuramagazine        1\n",
      " CCauqueninoCom        1\n",
      " bionoticiascl         1\n",
      " carta_abierta         1\n",
      " lacuarta              1\n",
      " radiopudeto           1\n",
      " pinguinodiario        1\n",
      " elobservatodo         1\n",
      " ElPeriscopioCL        1\n",
      " vlnradio              1\n",
      " PatoFdez              1\n",
      " elsoldeiquique        1\n",
      " LaTerceraTV           1\n",
      " cronicacurico         1\n",
      " HDtuiter              1\n",
      " eltipografo           1\n",
      " La_Segunda            1\n",
      " InetTvDigital         1\n",
      " Educacion2020         1\n",
      " estrellachiloe        1\n",
      " NatalesOnLine         1\n",
      " soyiquique            1\n",
      " radiosantamaria       1\n",
      " ChillanOnline         1\n",
      " sancarlosonline       1\n",
      " Publimetro_TV         1\n",
      " RadioGalactika        1\n",
      " laestrellaiqq         1\n",
      " MauleNoticias         1\n",
      "Name: CódigoMedio, Length: 159, dtype: int64\n"
     ]
    }
   ],
   "source": [
    "medios = df_mapuches['CódigoMedio'].value_counts()\n",
    "medios_fre = medios.tolist()\n",
    "medios_key = medios.keys().tolist()\n",
    "print(medios)"
   ]
  },
  {
   "cell_type": "markdown",
   "metadata": {},
   "source": [
    "Se construye una tabla con la frecuancia que abordan los medios cada uno de los tópicos encontrados."
   ]
  },
  {
   "cell_type": "code",
   "execution_count": 18,
   "metadata": {},
   "outputs": [
    {
     "name": "stdout",
     "output_type": "stream",
     "text": [
      " biobio   |  [  4  27   0 153]\n",
      " araucanianews   |  [27 28 54 16]\n",
      " eldesconcierto   |  [57 16  4  5]\n",
      " soytemuco   |  [11 21 33  4]\n",
      " AustralTemuco   |  [44  0  9  6]\n",
      " El_Ciudadano   |  [38 11  0  9]\n",
      " adnradiochile   |  [ 2  0  2 45]\n",
      " TVU_television   |  [17  2  6 16]\n",
      " laopinon   |  [20  8  0  8]\n",
      " rsumen   |  [ 8 13 10  4]\n",
      " CNNChile   |  [ 7 10 14  1]\n",
      " el_dinamo   |  [14 11  0  2]\n",
      " Temucodiario   |  [ 7  6  0 13]\n",
      " RedMiVoz   |  [ 9  7 10]\n",
      " 24HorasTVN   |  [13  0  0 11]\n",
      " GAMBA_CL   |  [17  0  2  5]\n",
      " thecliniccl   |  [ 8 10  2  3]\n",
      " latercera   |  [ 7  1 11  3]\n",
      " uchileradio   |  [11  1  0 10]\n"
     ]
    }
   ],
   "source": [
    "i = 0\n",
    "results = []\n",
    "while medios_fre[i] > 20:\n",
    "    aux = df_mapuches[df_mapuches.CódigoMedio.str.contains(medios_key[i])]\n",
    "    docs_medio = aux[\"cuerpo\"].as_matrix()\n",
    "    tf_medio = tf_vectorizer.fit_transform(docs_medio)\n",
    "\n",
    "    a = lda_model.fit_transform(tf_medio)\n",
    "\n",
    "    classification_array = np.argmax(a, axis=1)\n",
    "    counts = np.bincount(classification_array)\n",
    "    \n",
    "    #results = results.append(counts)\n",
    "    i = i + 1\n",
    "\n",
    "    #print(medios_key[i],\" | \",counts[0],\" \",counts[1],\" \",counts[2],\" \",counts[3])\n",
    "    print(medios_key[i],\" | \",counts)"
   ]
  },
  {
   "cell_type": "code",
   "execution_count": null,
   "metadata": {},
   "outputs": [],
   "source": []
  }
 ],
 "metadata": {
  "kernelspec": {
   "display_name": "Python 3",
   "language": "python",
   "name": "python3"
  },
  "language_info": {
   "codemirror_mode": {
    "name": "ipython",
    "version": 3
   },
   "file_extension": ".py",
   "mimetype": "text/x-python",
   "name": "python",
   "nbconvert_exporter": "python",
   "pygments_lexer": "ipython3",
   "version": "3.6.4"
  }
 },
 "nbformat": 4,
 "nbformat_minor": 2
}
